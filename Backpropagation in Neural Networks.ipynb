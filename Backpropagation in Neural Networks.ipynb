{
 "cells": [
  {
   "cell_type": "code",
   "execution_count": 3,
   "metadata": {
    "collapsed": true
   },
   "outputs": [],
   "source": [
    "import numpy as np"
   ]
  },
  {
   "cell_type": "code",
   "execution_count": 4,
   "metadata": {
    "collapsed": true
   },
   "outputs": [],
   "source": [
    "# activation unctions\n",
    "def tanh_(sum_):\n",
    "    return (np.exp(sum_) - np.exp(-1 * sum_)) / (np.exp(sum_) + np.exp(-1 * sum_))\n",
    "\n",
    "def sigmoid_(sum_):\n",
    "    return 1 / (1 + np.exp(-1 * sum_))\n",
    "\n",
    "def sgn_(sum_):\n",
    "    if(sum_ > 0):\n",
    "        return 1\n",
    "    else:\n",
    "        return 0"
   ]
  },
  {
   "cell_type": "code",
   "execution_count": 35,
   "metadata": {
    "collapsed": true
   },
   "outputs": [],
   "source": [
    "class Neuron:\n",
    "    '''\n",
    "    sample neuron\n",
    "    format: neuron(inputs, weights)\n",
    "    inputs: list having inputs as elemenets (length : j)\n",
    "    weights: list having weights of corresponding inputs (length: j)\n",
    "    '''\n",
    "#     def __init__(self):\n",
    "#         len_inputs = len(inputs)\n",
    "        # verify whether the given parameters are right\n",
    "    \n",
    "    def calculate_(self, inputs, weights, backpropagation=False, expectedVal = None):\n",
    "        self.inputs = inputs\n",
    "        self.weights = weights\n",
    "        \n",
    "        assert(len(self.inputs) == len(self.weights))\n",
    "        alpha = 0.1\n",
    "        # sum(W.X) \n",
    "        sigma_input_weight = np.dot(self.inputs, self.weights)\n",
    "        z = np.sum(sigma_input_weight, axis=0)\n",
    "        print(weights)\n",
    "        if(backpropagation == True):\n",
    "            error = 1/2.0 * (expectedVal - tanh_(z))**2\n",
    "            x1 = inputs[0]\n",
    "            w1 = weights[0]\n",
    "            print(error)\n",
    "            # Implementing backpropagation on logic gate neural networks\n",
    "            # Input Layer  : 1 (bias value), x1, x2\n",
    "            # Hidden Layer : 1 (bias value), h1, h2\n",
    "            # Hidden Layer outputs: H\n",
    "            # Output Layer : 1 or 0 (classification algorithm)\n",
    "            # Error : E = 1/2 * (y - y^)**2 \n",
    "            # y = actual target value, y^ = calculated target value\n",
    "            # Let's update weight w1 : delE/delw1 = delE/delH * delH/delOut1 * delOut1/delw1\n",
    "            # delE/delw1 = -(y - y^) * (np.exp(-z)/((1 + np.exp(-z))**2) * (x1)\n",
    "            # w1 = w1 - alpha * delE/delw1 [updated w1]\n",
    "            print(\"float(sigmoid_(z))\", sigmoid_(z))\n",
    "            print(float(expectedVal) - sigmoid_(z))\n",
    "            delE_delw1 = -1 * (float(expectedVal) - sigmoid_(z)) * (np.exp(-(z)))/(1 + np.exp(-z))**2 * x1\n",
    "            print(delE_delw1)\n",
    "            w1 = w1 - alpha * delE_delw1\n",
    "            print(\"w1: (updated)\", w1)\n",
    "        return (tanh_(z)), (sigmoid_(z)), (sgn_(z))\n",
    "    \n",
    "    "
   ]
  },
  {
   "cell_type": "code",
   "execution_count": 36,
   "metadata": {},
   "outputs": [
    {
     "name": "stdout",
     "output_type": "stream",
     "text": [
      "x1: 1\n",
      "x2: 0\n",
      "Expected value: 1\n",
      "[100, 20, 20]\n",
      "0.0\n",
      "float(sigmoid_(z)) 1.0\n",
      "0.0\n",
      "-0.0\n",
      "w1: (updated) 100.0\n"
     ]
    },
    {
     "data": {
      "text/plain": [
       "(1.0, 1.0, 1)"
      ]
     },
     "execution_count": 36,
     "metadata": {},
     "output_type": "execute_result"
    }
   ],
   "source": [
    "OR = Neuron()\n",
    "OR.calculate_([1, int(input(\"x1: \")), int(input(\"x2: \"))], [100, 20, 20], True, int(input(\"Expected value: \")))"
   ]
  },
  {
   "cell_type": "code",
   "execution_count": 75,
   "metadata": {},
   "outputs": [
    {
     "name": "stdout",
     "output_type": "stream",
     "text": [
      "x1: 1\n",
      "x2: 0\n"
     ]
    },
    {
     "data": {
      "text/plain": [
       "(-0.99999999587769262, 4.5397868702434395e-05, 0)"
      ]
     },
     "execution_count": 75,
     "metadata": {},
     "output_type": "execute_result"
    }
   ],
   "source": [
    "AND = Neuron([1, int(input(\"x1: \")), int(input(\"x2: \"))], [-30, 20, 20])\n",
    "AND.calculate_()"
   ]
  },
  {
   "cell_type": "code",
   "execution_count": 85,
   "metadata": {},
   "outputs": [
    {
     "name": "stdout",
     "output_type": "stream",
     "text": [
      "x1: 1\n",
      "x2: 0\n"
     ]
    },
    {
     "data": {
      "text/plain": [
       "(0.99999999587769262, 0.99995460213129761, 1)"
      ]
     },
     "execution_count": 85,
     "metadata": {},
     "output_type": "execute_result"
    }
   ],
   "source": [
    "NAND = Neuron([1, int(input(\"x1: \")), int(input(\"x2: \"))], [30, -20, -20])\n",
    "NAND.calculate_()"
   ]
  },
  {
   "cell_type": "code",
   "execution_count": 99,
   "metadata": {},
   "outputs": [
    {
     "name": "stdout",
     "output_type": "stream",
     "text": [
      "x1: 1\n",
      "x2: 0\n",
      "x1: 1\n",
      "x2: 1\n"
     ]
    },
    {
     "data": {
      "text/plain": [
       "(-1.0, 9.3576229688392989e-14, 0)"
      ]
     },
     "execution_count": 99,
     "metadata": {},
     "output_type": "execute_result"
    }
   ],
   "source": [
    "CHECK = Neuron()\n",
    "NAND = Neuron()\n",
    "OR = Neuron()\n",
    "CHECK.calculate_([1, OR.calculate_([1, int(input(\"x1: \")), int(input(\"x2: \"))], [-10, 20, 20])[0], \n",
    "                NAND.calculate_([1, int(input(\"x1: \")), int(input(\"x2: \"))], [30, -20, -20])[0]], [-30, 20, 20])\n",
    "# print(round(NAND.calculate_()[0]))"
   ]
  },
  {
   "cell_type": "code",
   "execution_count": null,
   "metadata": {
    "collapsed": true
   },
   "outputs": [],
   "source": []
  }
 ],
 "metadata": {
  "kernelspec": {
   "display_name": "Python 3",
   "language": "python",
   "name": "python3"
  },
  "language_info": {
   "codemirror_mode": {
    "name": "ipython",
    "version": 3
   },
   "file_extension": ".py",
   "mimetype": "text/x-python",
   "name": "python",
   "nbconvert_exporter": "python",
   "pygments_lexer": "ipython3",
   "version": "3.6.1"
  }
 },
 "nbformat": 4,
 "nbformat_minor": 2
}
