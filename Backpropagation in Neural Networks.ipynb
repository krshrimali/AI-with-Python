{
 "cells": [
  {
   "cell_type": "code",
   "execution_count": 3,
   "metadata": {
    "collapsed": true
   },
   "outputs": [],
   "source": [
    "import numpy as np"
   ]
  },
  {
   "cell_type": "code",
   "execution_count": 4,
   "metadata": {
    "collapsed": true
   },
   "outputs": [],
   "source": [
    "# activation unctions\n",
    "def tanh_(sum_):\n",
    "    return (np.exp(sum_) - np.exp(-1 * sum_)) / (np.exp(sum_) + np.exp(-1 * sum_))\n",
    "\n",
    "def sigmoid_(sum_):\n",
    "    return 1 / (1 + np.exp(-1 * sum_))\n",
    "\n",
    "def sgn_(sum_):\n",
    "    if(sum_ > 0):\n",
    "        return 1\n",
    "    else:\n",
    "        return 0"
   ]
  },
  {
   "cell_type": "code",
   "execution_count": 5,
   "metadata": {
    "collapsed": true
   },
   "outputs": [],
   "source": [
    "class Neuron:\n",
    "    '''\n",
    "    sample neuron\n",
    "    format: neuron(inputs, weights)\n",
    "    inputs: list having inputs as elemenets (length : j)\n",
    "    weights: list having weights of corresponding inputs (length: j)\n",
    "    '''\n",
    "#     def __init__(self):\n",
    "#         len_inputs = len(inputs)\n",
    "        # verify whether the given parameters are right\n",
    "    \n",
    "    def calculate_(self, inputs, weights, backpropagation=False, expectedVal = None):\n",
    "        self.inputs = inputs\n",
    "        self.weights = weights\n",
    "        \n",
    "        assert(len(self.inputs) == len(self.weights))\n",
    "\n",
    "        # sum(W.X) \n",
    "        sigma_input_weight = np.dot(self.inputs, self.weights)\n",
    "        sum_ = np.sum(sigma_input_weight, axis=0)\n",
    "        \n",
    "        if(backpropagation == True):\n",
    "            error = 1/2.0 * (expectedVal - tanh_(sum_))**2\n",
    "            print(error)\n",
    "        return (tanh_(sum_)), (sigmoid_(sum_)), (sgn_(sum_))\n",
    "    \n",
    "    "
   ]
  },
  {
   "cell_type": "code",
   "execution_count": 12,
   "metadata": {},
   "outputs": [
    {
     "name": "stdout",
     "output_type": "stream",
     "text": [
      "x1: 1\n",
      "x2: 0\n",
      "Expected value: 1\n",
      "8.49670908547e-18\n"
     ]
    },
    {
     "data": {
      "text/plain": [
       "(0.99999999587769262, 0.99995460213129761, 1)"
      ]
     },
     "execution_count": 12,
     "metadata": {},
     "output_type": "execute_result"
    }
   ],
   "source": [
    "OR = Neuron()\n",
    "OR.calculate_([1, int(input(\"x1: \")), int(input(\"x2: \"))], [-10, 20, 20], True, int(input(\"Expected value: \")))"
   ]
  },
  {
   "cell_type": "code",
   "execution_count": 75,
   "metadata": {},
   "outputs": [
    {
     "name": "stdout",
     "output_type": "stream",
     "text": [
      "x1: 1\n",
      "x2: 0\n"
     ]
    },
    {
     "data": {
      "text/plain": [
       "(-0.99999999587769262, 4.5397868702434395e-05, 0)"
      ]
     },
     "execution_count": 75,
     "metadata": {},
     "output_type": "execute_result"
    }
   ],
   "source": [
    "AND = Neuron([1, int(input(\"x1: \")), int(input(\"x2: \"))], [-30, 20, 20])\n",
    "AND.calculate_()"
   ]
  },
  {
   "cell_type": "code",
   "execution_count": 85,
   "metadata": {},
   "outputs": [
    {
     "name": "stdout",
     "output_type": "stream",
     "text": [
      "x1: 1\n",
      "x2: 0\n"
     ]
    },
    {
     "data": {
      "text/plain": [
       "(0.99999999587769262, 0.99995460213129761, 1)"
      ]
     },
     "execution_count": 85,
     "metadata": {},
     "output_type": "execute_result"
    }
   ],
   "source": [
    "NAND = Neuron([1, int(input(\"x1: \")), int(input(\"x2: \"))], [30, -20, -20])\n",
    "NAND.calculate_()"
   ]
  },
  {
   "cell_type": "code",
   "execution_count": 99,
   "metadata": {},
   "outputs": [
    {
     "name": "stdout",
     "output_type": "stream",
     "text": [
      "x1: 1\n",
      "x2: 0\n",
      "x1: 1\n",
      "x2: 1\n"
     ]
    },
    {
     "data": {
      "text/plain": [
       "(-1.0, 9.3576229688392989e-14, 0)"
      ]
     },
     "execution_count": 99,
     "metadata": {},
     "output_type": "execute_result"
    }
   ],
   "source": [
    "CHECK = Neuron()\n",
    "NAND = Neuron()\n",
    "OR = Neuron()\n",
    "CHECK.calculate_([1, OR.calculate_([1, int(input(\"x1: \")), int(input(\"x2: \"))], [-10, 20, 20])[0], \n",
    "                NAND.calculate_([1, int(input(\"x1: \")), int(input(\"x2: \"))], [30, -20, -20])[0]], [-30, 20, 20])\n",
    "# print(round(NAND.calculate_()[0]))"
   ]
  },
  {
   "cell_type": "code",
   "execution_count": null,
   "metadata": {
    "collapsed": true
   },
   "outputs": [],
   "source": [
    "# Implementing backpropagation on logic gate neural networks\n",
    "# Input Layer  : 1 (bias value), x1, x2\n",
    "# Hidden Layer : 1 (bias value), H1, H2\n",
    "# Output Layer : 1 or 0 (classification algorithm)\n",
    "\n"
   ]
  }
 ],
 "metadata": {
  "kernelspec": {
   "display_name": "Python 3",
   "language": "python",
   "name": "python3"
  },
  "language_info": {
   "codemirror_mode": {
    "name": "ipython",
    "version": 3
   },
   "file_extension": ".py",
   "mimetype": "text/x-python",
   "name": "python",
   "nbconvert_exporter": "python",
   "pygments_lexer": "ipython3",
   "version": "3.6.1"
  }
 },
 "nbformat": 4,
 "nbformat_minor": 2
}
