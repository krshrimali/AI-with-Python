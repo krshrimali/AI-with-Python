{
 "cells": [
  {
   "cell_type": "code",
<<<<<<< HEAD
   "execution_count": 3,
=======
   "execution_count": 1,
>>>>>>> 5bf58dad9dcc22d1bdf489967ea749f84be9ce86
   "metadata": {
    "collapsed": true
   },
   "outputs": [],
   "source": [
    "import numpy as np"
   ]
  },
  {
   "cell_type": "code",
<<<<<<< HEAD
   "execution_count": 4,
=======
   "execution_count": 2,
>>>>>>> 5bf58dad9dcc22d1bdf489967ea749f84be9ce86
   "metadata": {
    "collapsed": true
   },
   "outputs": [],
   "source": [
    "# activation unctions\n",
    "def tanh_(sum_):\n",
    "    return (np.exp(sum_) - np.exp(-1 * sum_)) / (np.exp(sum_) + np.exp(-1 * sum_))\n",
    "\n",
    "def sigmoid_(sum_):\n",
    "    return 1 / (1 + np.exp(-1 * sum_))\n",
    "\n",
    "def sgn_(sum_):\n",
    "    if(sum_ > 0):\n",
    "        return 1\n",
    "    else:\n",
    "        return 0"
   ]
  },
  {
   "cell_type": "code",
<<<<<<< HEAD
   "execution_count": 35,
=======
   "execution_count": 15,
>>>>>>> 5bf58dad9dcc22d1bdf489967ea749f84be9ce86
   "metadata": {
    "collapsed": true
   },
   "outputs": [],
   "source": [
    "class Neuron:\n",
    "    '''\n",
    "    sample neuron\n",
    "    format: neuron(inputs, weights)\n",
    "    inputs: list having inputs as elemenets (length : j)\n",
    "    weights: list having weights of corresponding inputs (length: j)\n",
    "    '''\n",
<<<<<<< HEAD
    "#     def __init__(self):\n",
    "#         len_inputs = len(inputs)\n",
    "        # verify whether the given parameters are right\n",
    "    \n",
    "    def calculate_(self, inputs, weights, backpropagation=False, expectedVal = None):\n",
=======
    "    def calculate_(self, inputs, weights):\n",
>>>>>>> 5bf58dad9dcc22d1bdf489967ea749f84be9ce86
    "        self.inputs = inputs\n",
    "        self.weights = weights\n",
    "        \n",
    "        # verify given parameters : inputs and weights are right or not.\n",
    "        assert(len(self.inputs) == len(self.weights))\n",
    "        alpha = 0.1\n",
    "        # sum(W.X) \n",
    "        sigma_input_weight = np.dot(self.inputs, self.weights)\n",
    "        z = np.sum(sigma_input_weight, axis=0)\n",
    "        print(weights)\n",
    "        if(backpropagation == True):\n",
    "            error = 1/2.0 * (expectedVal - tanh_(z))**2\n",
    "            x1 = inputs[0]\n",
    "            w1 = weights[0]\n",
    "            print(error)\n",
    "            # Implementing backpropagation on logic gate neural networks\n",
    "            # Input Layer  : 1 (bias value), x1, x2\n",
    "            # Hidden Layer : 1 (bias value), h1, h2\n",
    "            # Hidden Layer outputs: H\n",
    "            # Output Layer : 1 or 0 (classification algorithm)\n",
    "            # Error : E = 1/2 * (y - y^)**2 \n",
    "            # y = actual target value, y^ = calculated target value\n",
    "            # Let's update weight w1 : delE/delw1 = delE/delH * delH/delOut1 * delOut1/delw1\n",
    "            # delE/delw1 = -(y - y^) * (np.exp(-z)/((1 + np.exp(-z))**2) * (x1)\n",
    "            # w1 = w1 - alpha * delE/delw1 [updated w1]\n",
    "            print(\"float(sigmoid_(z))\", sigmoid_(z))\n",
    "            print(float(expectedVal) - sigmoid_(z))\n",
    "            delE_delw1 = -1 * (float(expectedVal) - sigmoid_(z)) * (np.exp(-(z)))/(1 + np.exp(-z))**2 * x1\n",
    "            print(delE_delw1)\n",
    "            w1 = w1 - alpha * delE_delw1\n",
    "            print(\"w1: (updated)\", w1)\n",
    "        return (tanh_(z)), (sigmoid_(z)), (sgn_(z))\n",
    "    \n",
    "    "
   ]
  },
  {
   "cell_type": "markdown",
   "metadata": {},
   "source": [
    "### Neuron Weights \n",
    "\n",
    "**1) AND  **: [30, -20, -20]\n",
    "\n",
    "**2) NAND **: [-30, 20,  20]\n",
    "\n",
    "**3) OR   **: [-10, 20,  20]\n",
    "\n",
    "Although, you can create all gates using simple NAND logic gate - which is the next **To-Do** Task.\n",
    "Currently *only three inputs are allowed*. Next **To-Do** will be to add flexible inputs. "
   ]
  },
  {
   "cell_type": "code",
<<<<<<< HEAD
   "execution_count": 36,
=======
   "execution_count": 5,
>>>>>>> 5bf58dad9dcc22d1bdf489967ea749f84be9ce86
   "metadata": {},
   "outputs": [
    {
     "name": "stdout",
     "output_type": "stream",
     "text": [
      "x1: 1\n",
      "x2: 0\n",
      "Expected value: 1\n",
      "[100, 20, 20]\n",
      "0.0\n",
      "float(sigmoid_(z)) 1.0\n",
      "0.0\n",
      "-0.0\n",
      "w1: (updated) 100.0\n"
     ]
    },
    {
     "data": {
      "text/plain": [
       "(1.0, 1.0, 1)"
      ]
     },
<<<<<<< HEAD
     "execution_count": 36,
=======
     "execution_count": 5,
>>>>>>> 5bf58dad9dcc22d1bdf489967ea749f84be9ce86
     "metadata": {},
     "output_type": "execute_result"
    }
   ],
   "source": [
    "OR = Neuron()\n",
    "OR.calculate_([1, int(input(\"x1: \")), int(input(\"x2: \"))], [100, 20, 20], True, int(input(\"Expected value: \")))"
   ]
  },
  {
   "cell_type": "code",
   "execution_count": 9,
   "metadata": {},
   "outputs": [
    {
     "name": "stdout",
     "output_type": "stream",
     "text": [
      "x1: 1\n",
      "x2: 1\n"
     ]
    },
    {
     "data": {
      "text/plain": [
       "(0.99999999587769262, 0.99995460213129761, 1)"
      ]
     },
     "execution_count": 9,
     "metadata": {},
     "output_type": "execute_result"
    }
   ],
   "source": [
    "AND = Neuron()\n",
    "AND.calculate_([1, int(input(\"x1: \")), int(input(\"x2: \"))], [-30, 20, 20])"
   ]
  },
  {
   "cell_type": "code",
   "execution_count": 14,
   "metadata": {},
   "outputs": [
    {
     "name": "stdout",
     "output_type": "stream",
     "text": [
      "x1: 1\n",
      "x2: 1\n"
     ]
    },
    {
     "data": {
      "text/plain": [
       "(-0.99999999587769262, 4.5397868702434395e-05, 0)"
      ]
     },
     "execution_count": 14,
     "metadata": {},
     "output_type": "execute_result"
    }
   ],
   "source": [
    "# create NAND neuron \n",
    "NAND = Neuron()\n",
    "# pass values with weights: 30, -20, -20 to the inputs \n",
    "NAND.calculate_([1, int(input(\"x1: \")), int(input(\"x2: \"))], [30, -20, -20])"
   ]
  },
  {
   "cell_type": "code",
   "execution_count": 13,
   "metadata": {},
   "outputs": [
    {
     "name": "stdout",
     "output_type": "stream",
     "text": [
      "x1: 1\n",
      "x2: 1\n",
      "x1: 1\n",
      "x2: 1\n"
     ]
    },
    {
     "data": {
      "text/plain": [
       "(-1.0, 9.3576237403393117e-14, 0)"
      ]
     },
     "execution_count": 13,
     "metadata": {},
     "output_type": "execute_result"
    }
   ],
   "source": [
    "# create 3 Neurons : XOR, NAND and OR\n",
    "XOR = Neuron()\n",
    "NAND = Neuron()\n",
    "OR = Neuron()\n",
    "\n",
    "# XOR : (A OR B) AND (A NAND B) = (A+B).((AB)') = (A+B).(A'+B') = AB' + BA' = XOR\n",
    "XOR.calculate_([1, OR.calculate_([1, int(input(\"x1: \")), int(input(\"x2: \"))], [-10, 20, 20])[0], \n",
    "                NAND.calculate_([1, int(input(\"x1: \")), int(input(\"x2: \"))], [30, -20, -20])[0]], [-30, 20, 20])"
   ]
<<<<<<< HEAD
  },
  {
   "cell_type": "code",
   "execution_count": null,
   "metadata": {
    "collapsed": true
   },
   "outputs": [],
   "source": []
=======
>>>>>>> 5bf58dad9dcc22d1bdf489967ea749f84be9ce86
  }
 ],
 "metadata": {
  "kernelspec": {
   "display_name": "Python 2",
   "language": "python",
   "name": "python2"
  },
  "language_info": {
   "codemirror_mode": {
    "name": "ipython",
    "version": 2
   },
   "file_extension": ".py",
   "mimetype": "text/x-python",
   "name": "python",
   "nbconvert_exporter": "python",
<<<<<<< HEAD
   "pygments_lexer": "ipython3",
   "version": "3.6.1"
=======
   "pygments_lexer": "ipython2",
   "version": "2.7.13"
>>>>>>> 5bf58dad9dcc22d1bdf489967ea749f84be9ce86
  }
 },
 "nbformat": 4,
 "nbformat_minor": 2
}
