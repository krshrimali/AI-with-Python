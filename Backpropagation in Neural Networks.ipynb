{
 "cells": [
  {
   "cell_type": "code",
   "execution_count": 1,
   "metadata": {
    "collapsed": true
   },
   "outputs": [],
   "source": [
    "import numpy as np"
   ]
  },
  {
   "cell_type": "code",
   "execution_count": 2,
   "metadata": {
    "collapsed": true
   },
   "outputs": [],
   "source": [
    "# activation unctions\n",
    "def tanh_(sum_):\n",
    "    return (np.exp(sum_) - np.exp(-1 * sum_)) / (np.exp(sum_) + np.exp(-1 * sum_))\n",
    "\n",
    "def sigmoid_(sum_):\n",
    "    return 1 / (1 + np.exp(-1 * sum_))\n",
    "\n",
    "def sgn_(sum_):\n",
    "    if(sum_ > 0):\n",
    "        return 1\n",
    "    else:\n",
    "        return 0"
   ]
  },
  {
   "cell_type": "code",
   "execution_count": 15,
   "metadata": {
    "collapsed": true
   },
   "outputs": [],
   "source": [
    "class Neuron:\n",
    "    '''\n",
    "    sample neuron\n",
    "    format: neuron(inputs, weights)\n",
    "    inputs: list having inputs as elemenets (length : j)\n",
    "    weights: list having weights of corresponding inputs (length: j)\n",
    "    '''\n",
    "    def calculate_(self, inputs, weights):\n",
    "        self.inputs = inputs\n",
    "        self.weights = weights\n",
    "        \n",
    "        # verify given parameters : inputs and weights are right or not.\n",
    "        assert(len(self.inputs) == len(self.weights))\n",
    "\n",
    "        # sum(W.X) \n",
    "        sigma_input_weight = np.dot(self.inputs, self.weights)\n",
    "        sum_ = np.sum(sigma_input_weight, axis=0)\n",
    "\n",
    "        return (tanh_(sum_)), (sigmoid_(sum_)), (sgn_(sum_))"
   ]
  },
  {
   "cell_type": "markdown",
   "metadata": {},
   "source": [
    "### Neuron Weights \n",
    "\n",
    "**1) AND  **: [30, -20, -20]\n",
    "\n",
    "**2) NAND **: [-30, 20,  20]\n",
    "\n",
    "**3) OR   **: [-10, 20,  20]\n",
    "\n",
    "Although, you can create all gates using simple NAND logic gate - which is the next **To-Do** Task.\n",
    "Currently *only three inputs are allowed*. Next **To-Do** will be to add flexible inputs. "
   ]
  },
  {
   "cell_type": "code",
   "execution_count": 5,
   "metadata": {},
   "outputs": [
    {
     "name": "stdout",
     "output_type": "stream",
     "text": [
      "x1: 1\n",
      "x2: 0\n"
     ]
    },
    {
     "data": {
      "text/plain": [
       "(0.99999999587769262, 0.99995460213129761, 1)"
      ]
     },
     "execution_count": 5,
     "metadata": {},
     "output_type": "execute_result"
    }
   ],
   "source": [
    "OR = Neuron()\n",
    "OR.calculate_([1, int(input(\"x1: \")), int(input(\"x2: \"))], [-10, 20, 20])"
   ]
  },
  {
   "cell_type": "code",
   "execution_count": 9,
   "metadata": {},
   "outputs": [
    {
     "name": "stdout",
     "output_type": "stream",
     "text": [
      "x1: 1\n",
      "x2: 1\n"
     ]
    },
    {
     "data": {
      "text/plain": [
       "(0.99999999587769262, 0.99995460213129761, 1)"
      ]
     },
     "execution_count": 9,
     "metadata": {},
     "output_type": "execute_result"
    }
   ],
   "source": [
    "AND = Neuron()\n",
    "AND.calculate_([1, int(input(\"x1: \")), int(input(\"x2: \"))], [-30, 20, 20])"
   ]
  },
  {
   "cell_type": "code",
   "execution_count": 14,
   "metadata": {},
   "outputs": [
    {
     "name": "stdout",
     "output_type": "stream",
     "text": [
      "x1: 1\n",
      "x2: 1\n"
     ]
    },
    {
     "data": {
      "text/plain": [
       "(-0.99999999587769262, 4.5397868702434395e-05, 0)"
      ]
     },
     "execution_count": 14,
     "metadata": {},
     "output_type": "execute_result"
    }
   ],
   "source": [
    "# create NAND neuron \n",
    "NAND = Neuron()\n",
    "# pass values with weights: 30, -20, -20 to the inputs \n",
    "NAND.calculate_([1, int(input(\"x1: \")), int(input(\"x2: \"))], [30, -20, -20])"
   ]
  },
  {
   "cell_type": "code",
   "execution_count": 13,
   "metadata": {},
   "outputs": [
    {
     "name": "stdout",
     "output_type": "stream",
     "text": [
      "x1: 1\n",
      "x2: 1\n",
      "x1: 1\n",
      "x2: 1\n"
     ]
    },
    {
     "data": {
      "text/plain": [
       "(-1.0, 9.3576237403393117e-14, 0)"
      ]
     },
     "execution_count": 13,
     "metadata": {},
     "output_type": "execute_result"
    }
   ],
   "source": [
    "# create 3 Neurons : XOR, NAND and OR\n",
    "XOR = Neuron()\n",
    "NAND = Neuron()\n",
    "OR = Neuron()\n",
    "\n",
    "# XOR : (A OR B) AND (A NAND B) = (A+B).((AB)') = (A+B).(A'+B') = AB' + BA' = XOR\n",
    "XOR.calculate_([1, OR.calculate_([1, int(input(\"x1: \")), int(input(\"x2: \"))], [-10, 20, 20])[0], \n",
    "                NAND.calculate_([1, int(input(\"x1: \")), int(input(\"x2: \"))], [30, -20, -20])[0]], [-30, 20, 20])"
   ]
  }
 ],
 "metadata": {
  "kernelspec": {
   "display_name": "Python 2",
   "language": "python",
   "name": "python2"
  },
  "language_info": {
   "codemirror_mode": {
    "name": "ipython",
    "version": 2
   },
   "file_extension": ".py",
   "mimetype": "text/x-python",
   "name": "python",
   "nbconvert_exporter": "python",
   "pygments_lexer": "ipython2",
   "version": "2.7.13"
  }
 },
 "nbformat": 4,
 "nbformat_minor": 2
}
