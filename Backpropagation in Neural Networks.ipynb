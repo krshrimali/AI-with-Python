{
 "cells": [
  {
   "cell_type": "code",
   "execution_count": 7,
   "metadata": {},
   "outputs": [],
   "source": [
    "import numpy as np"
   ]
  },
  {
   "cell_type": "code",
   "execution_count": 34,
   "metadata": {},
   "outputs": [],
   "source": [
    "# activationf unctions\n",
    "def tanh_(sum_):\n",
    "    return (np.exp(sum_) - np.exp(-1 * sum_)) / (np.exp(sum_) + np.exp(-1 * sum_))\n",
    "\n",
    "def sigmoid_(sum_):\n",
    "    return 1 / (1 + np.exp(-1 * sum_))\n",
    "\n",
    "def sgn_(sum_):\n",
    "    if(sum_ > 0):\n",
    "        return 1\n",
    "    else:\n",
    "        return 0"
   ]
  },
  {
   "cell_type": "code",
   "execution_count": 37,
   "metadata": {},
   "outputs": [],
   "source": [
    "def neuron(inputs, weights):\n",
    "    '''\n",
    "    sample neuron\n",
    "    format: neuron(inputs, weights)\n",
    "    inputs: list having inputs as elemenets (length : j)\n",
    "    weights: list having weights of corresponding inputs (length: j)\n",
    "    '''\n",
    "    len_inputs = len(inputs)\n",
    "    # verify whether the given parameters are right\n",
    "    assert(len(inputs) == len(weights))\n",
    "    sigma_input_weight = np.dot(inputs, weights)\n",
    "    print(sigma_input_weight)\n",
    "    sum_ = np.sum(sigma_input_weight, axis=0)\n",
    "    return tanh_(sum_), sigmoid_(sum_), sgn_(sum_)"
   ]
  },
  {
   "cell_type": "code",
   "execution_count": null,
   "metadata": {},
   "outputs": [],
   "source": []
  }
 ],
 "metadata": {
  "kernelspec": {
   "display_name": "Python 3",
   "language": "python",
   "name": "python3"
  },
  "language_info": {
   "codemirror_mode": {
    "name": "ipython",
    "version": 3
   },
   "file_extension": ".py",
   "mimetype": "text/x-python",
   "name": "python",
   "nbconvert_exporter": "python",
   "pygments_lexer": "ipython3",
   "version": "3.5.2"
  }
 },
 "nbformat": 4,
 "nbformat_minor": 2
}
