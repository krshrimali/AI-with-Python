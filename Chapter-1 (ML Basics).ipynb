{
 "cells": [
  {
   "cell_type": "code",
   "execution_count": 3,
   "metadata": {},
   "outputs": [],
   "source": [
    "# importing all necessary libraries\n",
    "import numpy as np\n",
    "import matplotlib.pyplot as plt\n",
    "from math import *\n",
    "%matplotlib inline"
   ]
  },
  {
   "cell_type": "markdown",
   "metadata": {},
   "source": [
    "Creating a random 4 by 4 matrix. "
   ]
  },
  {
   "cell_type": "code",
   "execution_count": 4,
   "metadata": {},
   "outputs": [
    {
     "name": "stdout",
     "output_type": "stream",
     "text": [
      "[[ 0.42307362  0.73982577  0.19498292  0.09203663]\n",
      " [ 0.52860503  0.30469265  0.7687214   0.00359291]\n",
      " [ 0.88849332  0.18811586  0.94985822  0.57339951]\n",
      " [ 0.04887285  0.9885701   0.07645937  0.06812972]]\n"
     ]
    }
   ],
   "source": [
    "randMat = np.mat(np.random.rand(4,4))\n",
    "print(randMat)"
   ]
  },
  {
   "cell_type": "code",
   "execution_count": 5,
   "metadata": {},
   "outputs": [
    {
     "name": "stdout",
     "output_type": "stream",
     "text": [
      "[[  1.00000000e+00   0.00000000e+00  -2.77555756e-17   5.55111512e-17]\n",
      " [ -5.37764278e-17   1.00000000e+00  -7.63278329e-17   3.30464822e-16]\n",
      " [  0.00000000e+00   0.00000000e+00   1.00000000e+00   1.11022302e-16]\n",
      " [ -1.38777878e-17   0.00000000e+00  -1.38777878e-17   1.00000000e+00]]\n"
     ]
    }
   ],
   "source": [
    "# checking the property: A * inv(A) = Identity\n",
    "print(randMat * randMat.I)"
   ]
  },
  {
   "cell_type": "code",
   "execution_count": 32,
   "metadata": {},
   "outputs": [],
   "source": [
    "# k - NN\n",
    "def createDataSet():\n",
    "    group  = np.array([[1.0, 1.1], [1.0, 1.0], [0.0, 0.0], [0, 0.1], [-1.0, 1.0]])\n",
    "    labels = ['B', 'A', 'B', 'B', 'B']\n",
    "    return group, labels"
   ]
  },
  {
   "cell_type": "code",
   "execution_count": 33,
   "metadata": {},
   "outputs": [],
   "source": [
    "# utility function\n",
    "# returns frequency of element in list\n",
    "def find_freq(item, list_labels):\n",
    "    count = 0\n",
    "    for index in range(len(list_labels)):\n",
    "        if(list_labels[index] == item):\n",
    "            count += 1\n",
    "    return count"
   ]
  },
  {
   "cell_type": "code",
   "execution_count": 34,
   "metadata": {},
   "outputs": [
    {
     "name": "stdout",
     "output_type": "stream",
     "text": [
      "['B', 'A', 'B', 'B', 'B']\n"
     ]
    },
    {
     "data": {
      "text/plain": [
       "[<matplotlib.lines.Line2D at 0x7fad485d77b8>,\n",
       " <matplotlib.lines.Line2D at 0x7fad485d7978>]"
      ]
     },
     "execution_count": 34,
     "metadata": {},
     "output_type": "execute_result"
    },
    {
     "data": {
      "image/png": "[encoded data removed]",
      "text/plain": [
       "<matplotlib.figure.Figure at 0x7fad4860a6a0>"
      ]
     },
     "metadata": {},
     "output_type": "display_data"
    }
   ],
   "source": [
    "group, labels = createDataSet()\n",
    "# labels = [float(x) for x in labels]\n",
    "\n",
    "print(labels)\n",
    "plt.plot(group)"
   ]
  },
  {
   "cell_type": "code",
   "execution_count": 35,
   "metadata": {},
   "outputs": [],
   "source": [
    "def classify0(unknown, data, labels, k):\n",
    "    # iterate over all samples\n",
    "    # examples: [A_inx, B_inx] and [A_data, B_data]\n",
    "    # sqrt((A_data - A_inx)**2 + (B_data - B_inx)**2)\n",
    "    features_len = data.shape[1]\n",
    "#     for i in range(data.shape[0]):\n",
    "#         dffMat = 0\n",
    "    dffMat = [[sqrt((x[0] - unknown[0]) ** 2 + (x[1] - unknown[1]) ** 2)] for x in data]\n",
    "#     print(dffMat)\n",
    "    \n",
    "    for i in range(len(dffMat)):\n",
    "        dffMat[i].append(labels[i])\n",
    "    \n",
    "#     print(dffMat)\n",
    "    # sort dffMat\n",
    "    \n",
    "    minimum = 100\n",
    "    kNN_list = []\n",
    "    \n",
    "    for j in range(k):\n",
    "        for i in range(len(dffMat)):\n",
    "            if(dffMat[i][0] < minimum):\n",
    "                minimum = dffMat[i][0]\n",
    "                index = i\n",
    "        dffMat[index][0] = 1000\n",
    "        kNN_list.append([minimum, index])\n",
    "        minimum = 1000\n",
    "        \n",
    "    labels_list = []\n",
    "    \n",
    "    for point in kNN_list:\n",
    "        labels_list.append(labels[point[1]])\n",
    "    \n",
    "    if(k == 2 and labels_list[0] != labels_list[1]):\n",
    "        print(\"Can not be predicted\")\n",
    "        return kNN_list, labels_list\n",
    "    else:\n",
    "        count = {}\n",
    "        set_labels = set(labels_list)\n",
    "        for unique_label in set_labels:\n",
    "            count[unique_label] = find_freq(unique_label, labels_list)\n",
    "        print(\"dict: \", count)\n",
    "#         for i in range(len(labels_list)):\n",
    "#             pt = labels_list[i]\n",
    "#             count[pt] = 1\n",
    "#             for j in range(i, len(labels_list)):\n",
    "#                 if(pt == labels_list[j]):\n",
    "#                     count[pt] += 1\n",
    "        # print(count)\n",
    "        # print(max(count))\n",
    "        maximum = 0.0\n",
    "        for i in count.keys():\n",
    "            if(maximum < count[i]):\n",
    "                maximum = count[i]\n",
    "                index = i\n",
    "        if(maximum == 0)\n",
    "#         print(maximum)\n",
    "        return kNN_list, labels_list, index"
   ]
  },
  {
   "cell_type": "code",
   "execution_count": 36,
   "metadata": {},
   "outputs": [
    {
     "name": "stdout",
     "output_type": "stream",
     "text": [
      "Can not be predicted\n"
     ]
    },
    {
     "data": {
      "text/plain": [
       "([[0.10000000000000009, 1], [0.14142135623730964, 0]], ['A', 'B'])"
      ]
     },
     "execution_count": 36,
     "metadata": {},
     "output_type": "execute_result"
    }
   ],
   "source": [
    "classify0([1.1, 1], group, labels, 2)"
   ]
  },
  {
   "cell_type": "code",
   "execution_count": null,
   "metadata": {},
   "outputs": [],
   "source": []
  }
 ],
 "metadata": {
  "kernelspec": {
   "display_name": "Python 3",
   "language": "python",
   "name": "python3"
  },
  "language_info": {
   "codemirror_mode": {
    "name": "ipython",
    "version": 3
   },
   "file_extension": ".py",
   "mimetype": "text/x-python",
   "name": "python",
   "nbconvert_exporter": "python",
   "pygments_lexer": "ipython3",
   "version": "3.5.2"
  }
 },
 "nbformat": 4,
 "nbformat_minor": 2
}
